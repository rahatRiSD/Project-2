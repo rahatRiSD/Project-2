{
 "cells": [
  {
   "cell_type": "code",
   "execution_count": 1,
   "id": "62450dd5-6ded-4dbb-94db-6bc9f7c0d1f3",
   "metadata": {},
   "outputs": [
    {
     "name": "stdout",
     "output_type": "stream",
     "text": [
      "Requirement already satisfied: opencv-contrib-python in /Users/rahatrihan/miniforge3/lib/python3.12/site-packages (4.10.0.84)\n",
      "Requirement already satisfied: numpy>=1.21.2 in /Users/rahatrihan/miniforge3/lib/python3.12/site-packages (from opencv-contrib-python) (2.1.3)\n"
     ]
    }
   ],
   "source": [
    "# Install required dependencies\n",
    "!pip install opencv-contrib-python\n"
   ]
  },
  {
   "cell_type": "code",
   "execution_count": 2,
   "id": "10dc60c3-a556-4186-a7d2-038ec4bbc778",
   "metadata": {},
   "outputs": [],
   "source": [
    "import cv2\n",
    "import os\n",
    "import numpy as np\n"
   ]
  },
  {
   "cell_type": "code",
   "execution_count": 3,
   "id": "364493fc-935d-4690-9fac-6b069eafd9a5",
   "metadata": {},
   "outputs": [
    {
     "name": "stdout",
     "output_type": "stream",
     "text": [
      "Haar cascade loaded successfully.\n"
     ]
    }
   ],
   "source": [
    "# Load Haar Cascade for face detection\n",
    "cascade_path = \"haarcascade_frontalface_default.xml\"  # Ensure this file is in your directory\n",
    "face_cascade = cv2.CascadeClassifier(cascade_path)\n",
    "\n",
    "if face_cascade.empty():\n",
    "    raise IOError(\"Haar cascade XML file not loaded correctly.\")\n",
    "else:\n",
    "    print(\"Haar cascade loaded successfully.\")\n"
   ]
  },
  {
   "cell_type": "code",
   "execution_count": 4,
   "id": "93a2d80e-cbe7-426c-80be-274979ea7c02",
   "metadata": {},
   "outputs": [
    {
     "name": "stdout",
     "output_type": "stream",
     "text": [
      "Paths and variables initialized.\n"
     ]
    }
   ],
   "source": [
    "# Paths to datasets\n",
    "base_path = \"./\"  # Current directory\n",
    "person1_path = os.path.join(base_path, \"Rahat\")\n",
    "person2_path = os.path.join(base_path, \"Muktadir\")\n",
    "\n",
    "# Variables\n",
    "face_data = []\n",
    "labels = []\n",
    "label_dict = {0: \"Rahat\", 1: \"Muktadir\"}  # Map labels to names\n",
    "valid_extensions = (\".jpg\", \".jpeg\", \".png\")  # Valid file extensions\n",
    "\n",
    "print(\"Paths and variables initialized.\")\n"
   ]
  },
  {
   "cell_type": "code",
   "execution_count": 5,
   "id": "f8c3b7ca-1afc-451f-bec8-a457d205b482",
   "metadata": {},
   "outputs": [
    {
     "name": "stdout",
     "output_type": "stream",
     "text": [
      "Renamed: ./Rahat/Rahat11.jpg -> ./Rahat/Rahat1.jpg\n",
      "Renamed: ./Rahat/Rahat10.jpg -> ./Rahat/Rahat2.jpg\n",
      "Renamed: ./Rahat/Rahat12.jpg -> ./Rahat/Rahat3.jpg\n",
      "Renamed: ./Rahat/Rahat13.jpg -> ./Rahat/Rahat4.jpg\n",
      "Renamed: ./Rahat/Rahat8.jpg -> ./Rahat/Rahat5.jpg\n",
      "Renamed: ./Rahat/Rahat17.jpg -> ./Rahat/Rahat6.jpg\n",
      "Renamed: ./Rahat/Rahat16.jpg -> ./Rahat/Rahat7.jpg\n",
      "Renamed: ./Rahat/Rahat9.jpg -> ./Rahat/Rahat8.jpg\n",
      "Renamed: ./Rahat/Rahat14.jpg -> ./Rahat/Rahat9.jpg\n",
      "Renamed: ./Rahat/Rahat15.jpg -> ./Rahat/Rahat10.jpg\n",
      "Renamed: ./Rahat/Rahat7.jpg -> ./Rahat/Rahat11.jpg\n",
      "Renamed: ./Rahat/Rahat24.jpg -> ./Rahat/Rahat12.jpg\n",
      "Renamed: ./Rahat/Rahat18.jpg -> ./Rahat/Rahat13.jpg\n",
      "Renamed: ./Rahat/Rahat19.jpg -> ./Rahat/Rahat14.jpg\n",
      "Renamed: ./Rahat/Rahat25.jpg -> ./Rahat/Rahat15.jpg\n",
      "Renamed: ./Rahat/Rahat6.jpg -> ./Rahat/Rahat16.jpg\n",
      "Renamed: ./Rahat/Rahat4.jpg -> ./Rahat/Rahat17.jpg\n",
      "Renamed: ./Rahat/Rahat27.jpg -> ./Rahat/Rahat18.jpg\n",
      "Renamed: ./Rahat/Rahat26.jpg -> ./Rahat/Rahat19.jpg\n",
      "Renamed: ./Rahat/Rahat5.jpg -> ./Rahat/Rahat20.jpg\n",
      "Renamed: ./Rahat/Rahat1.jpg -> ./Rahat/Rahat21.jpg\n",
      "Renamed: ./Rahat/Rahat22.jpg -> ./Rahat/Rahat22.jpg\n",
      "Renamed: ./Rahat/Rahat23.jpg -> ./Rahat/Rahat23.jpg\n",
      "Renamed: ./Rahat/Rahat2.jpg -> ./Rahat/Rahat24.jpg\n",
      "Renamed: ./Rahat/Rahat21.jpg -> ./Rahat/Rahat25.jpg\n",
      "Renamed: ./Rahat/Rahat20.jpg -> ./Rahat/Rahat26.jpg\n",
      "Renamed: ./Rahat/Rahat3.jpg -> ./Rahat/Rahat27.jpg\n",
      "Renamed: ./Muktadir/Muktadir34.jpg -> ./Muktadir/Muktadir1.jpg\n",
      "Renamed: ./Muktadir/Muktadir20.jpg -> ./Muktadir/Muktadir2.jpg\n",
      "Renamed: ./Muktadir/Muktadir137.jpg -> ./Muktadir/Muktadir3.jpg\n",
      "Renamed: ./Muktadir/Muktadir123.jpg -> ./Muktadir/Muktadir4.jpg\n",
      "Renamed: ./Muktadir/Muktadir122.jpg -> ./Muktadir/Muktadir5.jpg\n",
      "Renamed: ./Muktadir/Muktadir136.jpg -> ./Muktadir/Muktadir6.jpg\n",
      "Renamed: ./Muktadir/Muktadir21.jpg -> ./Muktadir/Muktadir7.jpg\n",
      "Renamed: ./Muktadir/Muktadir35.jpg -> ./Muktadir/Muktadir8.jpg\n",
      "Renamed: ./Muktadir/Muktadir23.jpg -> ./Muktadir/Muktadir9.jpg\n",
      "Renamed: ./Muktadir/Muktadir37.jpg -> ./Muktadir/Muktadir10.jpg\n",
      "Renamed: ./Muktadir/Muktadir108.jpg -> ./Muktadir/Muktadir11.jpg\n",
      "Renamed: ./Muktadir/Muktadir120.jpg -> ./Muktadir/Muktadir12.jpg\n",
      "Renamed: ./Muktadir/Muktadir134.jpg -> ./Muktadir/Muktadir13.jpg\n",
      "Renamed: ./Muktadir/Muktadir135.jpg -> ./Muktadir/Muktadir14.jpg\n",
      "Renamed: ./Muktadir/Muktadir121.jpg -> ./Muktadir/Muktadir15.jpg\n",
      "Renamed: ./Muktadir/Muktadir109.jpg -> ./Muktadir/Muktadir16.jpg\n",
      "Renamed: ./Muktadir/Muktadir36.jpg -> ./Muktadir/Muktadir17.jpg\n",
      "Renamed: ./Muktadir/Muktadir22.jpg -> ./Muktadir/Muktadir18.jpg\n",
      "Renamed: ./Muktadir/Muktadir26.jpg -> ./Muktadir/Muktadir19.jpg\n",
      "Renamed: ./Muktadir/Muktadir32.jpg -> ./Muktadir/Muktadir20.jpg\n",
      "Renamed: ./Muktadir/Muktadir125.jpg -> ./Muktadir/Muktadir21.jpg\n",
      "Renamed: ./Muktadir/Muktadir131.jpg -> ./Muktadir/Muktadir22.jpg\n",
      "Renamed: ./Muktadir/Muktadir119.jpg -> ./Muktadir/Muktadir23.jpg\n",
      "Renamed: ./Muktadir/Muktadir118.jpg -> ./Muktadir/Muktadir24.jpg\n",
      "Renamed: ./Muktadir/Muktadir130.jpg -> ./Muktadir/Muktadir25.jpg\n",
      "Renamed: ./Muktadir/Muktadir124.jpg -> ./Muktadir/Muktadir26.jpg\n",
      "Renamed: ./Muktadir/Muktadir33.jpg -> ./Muktadir/Muktadir27.jpg\n",
      "Renamed: ./Muktadir/Muktadir27.jpg -> ./Muktadir/Muktadir28.jpg\n",
      "Renamed: ./Muktadir/Muktadir31.jpg -> ./Muktadir/Muktadir29.jpg\n",
      "Renamed: ./Muktadir/Muktadir25.jpg -> ./Muktadir/Muktadir30.jpg\n",
      "Renamed: ./Muktadir/Muktadir19.jpg -> ./Muktadir/Muktadir31.jpg\n",
      "Renamed: ./Muktadir/Muktadir132.jpg -> ./Muktadir/Muktadir32.jpg\n",
      "Renamed: ./Muktadir/Muktadir126.jpg -> ./Muktadir/Muktadir33.jpg\n",
      "Renamed: ./Muktadir/Muktadir127.jpg -> ./Muktadir/Muktadir34.jpg\n",
      "Renamed: ./Muktadir/Muktadir133.jpg -> ./Muktadir/Muktadir35.jpg\n",
      "Renamed: ./Muktadir/Muktadir18.jpg -> ./Muktadir/Muktadir36.jpg\n",
      "Renamed: ./Muktadir/Muktadir24.jpg -> ./Muktadir/Muktadir37.jpg\n",
      "Renamed: ./Muktadir/Muktadir30.jpg -> ./Muktadir/Muktadir38.jpg\n",
      "Renamed: ./Muktadir/Muktadir57.jpg -> ./Muktadir/Muktadir39.jpg\n",
      "Renamed: ./Muktadir/Muktadir43.jpg -> ./Muktadir/Muktadir40.jpg\n",
      "Renamed: ./Muktadir/Muktadir94.jpg -> ./Muktadir/Muktadir41.jpg\n",
      "Renamed: ./Muktadir/Muktadir80.jpg -> ./Muktadir/Muktadir42.jpg\n",
      "Renamed: ./Muktadir/Muktadir154.jpg -> ./Muktadir/Muktadir43.jpg\n",
      "Renamed: ./Muktadir/Muktadir140.jpg -> ./Muktadir/Muktadir44.jpg\n",
      "Renamed: ./Muktadir/Muktadir141.jpg -> ./Muktadir/Muktadir45.jpg\n",
      "Renamed: ./Muktadir/Muktadir155.jpg -> ./Muktadir/Muktadir46.jpg\n",
      "Renamed: ./Muktadir/Muktadir81.jpg -> ./Muktadir/Muktadir47.jpg\n",
      "Renamed: ./Muktadir/Muktadir95.jpg -> ./Muktadir/Muktadir48.jpg\n",
      "Renamed: ./Muktadir/Muktadir42.jpg -> ./Muktadir/Muktadir49.jpg\n",
      "Renamed: ./Muktadir/Muktadir56.jpg -> ./Muktadir/Muktadir50.jpg\n",
      "Renamed: ./Muktadir/Muktadir68.jpg -> ./Muktadir/Muktadir51.jpg\n",
      "Renamed: ./Muktadir/Muktadir40.jpg -> ./Muktadir/Muktadir52.jpg\n",
      "Renamed: ./Muktadir/Muktadir54.jpg -> ./Muktadir/Muktadir53.jpg\n",
      "Renamed: ./Muktadir/Muktadir83.jpg -> ./Muktadir/Muktadir54.jpg\n",
      "Renamed: ./Muktadir/Muktadir97.jpg -> ./Muktadir/Muktadir55.jpg\n",
      "Renamed: ./Muktadir/Muktadir143.jpg -> ./Muktadir/Muktadir56.jpg\n",
      "Renamed: ./Muktadir/Muktadir157.jpg -> ./Muktadir/Muktadir57.jpg\n",
      "Renamed: ./Muktadir/Muktadir156.jpg -> ./Muktadir/Muktadir58.jpg\n",
      "Renamed: ./Muktadir/Muktadir142.jpg -> ./Muktadir/Muktadir59.jpg\n",
      "Renamed: ./Muktadir/Muktadir96.jpg -> ./Muktadir/Muktadir60.jpg\n",
      "Renamed: ./Muktadir/Muktadir82.jpg -> ./Muktadir/Muktadir61.jpg\n",
      "Renamed: ./Muktadir/Muktadir41.jpg -> ./Muktadir/Muktadir62.jpg\n",
      "Renamed: ./Muktadir/Muktadir69.jpg -> ./Muktadir/Muktadir63.jpg\n",
      "Renamed: ./Muktadir/Muktadir45.jpg -> ./Muktadir/Muktadir64.jpg\n",
      "Renamed: ./Muktadir/Muktadir79.jpg -> ./Muktadir/Muktadir65.jpg\n",
      "Renamed: ./Muktadir/Muktadir86.jpg -> ./Muktadir/Muktadir66.jpg\n",
      "Renamed: ./Muktadir/Muktadir92.jpg -> ./Muktadir/Muktadir67.jpg\n",
      "Renamed: ./Muktadir/Muktadir146.jpg -> ./Muktadir/Muktadir68.jpg\n",
      "Renamed: ./Muktadir/Muktadir152.jpg -> ./Muktadir/Muktadir69.jpg\n",
      "Renamed: ./Muktadir/Muktadir153.jpg -> ./Muktadir/Muktadir70.jpg\n",
      "Renamed: ./Muktadir/Muktadir147.jpg -> ./Muktadir/Muktadir71.jpg\n",
      "Renamed: ./Muktadir/Muktadir93.jpg -> ./Muktadir/Muktadir72.jpg\n",
      "Renamed: ./Muktadir/Muktadir87.jpg -> ./Muktadir/Muktadir73.jpg\n",
      "Renamed: ./Muktadir/Muktadir78.jpg -> ./Muktadir/Muktadir74.jpg\n",
      "Renamed: ./Muktadir/Muktadir50.jpg -> ./Muktadir/Muktadir75.jpg\n",
      "Renamed: ./Muktadir/Muktadir44.jpg -> ./Muktadir/Muktadir76.jpg\n",
      "Renamed: ./Muktadir/Muktadir46.jpg -> ./Muktadir/Muktadir77.jpg\n",
      "Renamed: ./Muktadir/Muktadir91.jpg -> ./Muktadir/Muktadir78.jpg\n",
      "Renamed: ./Muktadir/Muktadir85.jpg -> ./Muktadir/Muktadir79.jpg\n",
      "Renamed: ./Muktadir/Muktadir151.jpg -> ./Muktadir/Muktadir80.jpg\n",
      "Renamed: ./Muktadir/Muktadir145.jpg -> ./Muktadir/Muktadir81.jpg\n",
      "Renamed: ./Muktadir/Muktadir9.jpg -> ./Muktadir/Muktadir82.jpg\n",
      "Renamed: ./Muktadir/Muktadir8.jpg -> ./Muktadir/Muktadir83.jpg\n",
      "Renamed: ./Muktadir/Muktadir144.jpg -> ./Muktadir/Muktadir84.jpg\n",
      "Renamed: ./Muktadir/Muktadir150.jpg -> ./Muktadir/Muktadir85.jpg\n",
      "Renamed: ./Muktadir/Muktadir47.jpg -> ./Muktadir/Muktadir86.jpg\n",
      "Renamed: ./Muktadir/Muktadir149.jpg -> ./Muktadir/Muktadir87.jpg\n",
      "Renamed: ./Muktadir/Muktadir5.jpg -> ./Muktadir/Muktadir88.jpg\n",
      "Renamed: ./Muktadir/Muktadir4.jpg -> ./Muktadir/Muktadir89.jpg\n",
      "Renamed: ./Muktadir/Muktadir148.jpg -> ./Muktadir/Muktadir90.jpg\n",
      "Renamed: ./Muktadir/Muktadir49.jpg -> ./Muktadir/Muktadir91.jpg\n",
      "Renamed: ./Muktadir/Muktadir6.jpg -> ./Muktadir/Muktadir92.jpg\n",
      "Renamed: ./Muktadir/Muktadir7.jpg -> ./Muktadir/Muktadir93.jpg\n",
      "Renamed: ./Muktadir/Muktadir48.jpg -> ./Muktadir/Muktadir94.jpg\n",
      "Renamed: ./Muktadir/Muktadir3.jpg -> ./Muktadir/Muktadir95.jpg\n",
      "Renamed: ./Muktadir/Muktadir2.jpg -> ./Muktadir/Muktadir96.jpg\n",
      "Renamed: ./Muktadir/Muktadir158.jpg -> ./Muktadir/Muktadir97.jpg\n",
      "Renamed: ./Muktadir/Muktadir1.jpg -> ./Muktadir/Muktadir98.jpg\n",
      "Renamed: ./Muktadir/Muktadir29.jpg -> ./Muktadir/Muktadir99.jpg\n",
      "Renamed: ./Muktadir/Muktadir15.jpg -> ./Muktadir/Muktadir100.jpg\n",
      "Renamed: ./Muktadir/Muktadir116.jpg -> ./Muktadir/Muktadir101.jpg\n",
      "Renamed: ./Muktadir/Muktadir117.jpg -> ./Muktadir/Muktadir102.jpg\n",
      "Renamed: ./Muktadir/Muktadir14.jpg -> ./Muktadir/Muktadir103.jpg\n",
      "Renamed: ./Muktadir/Muktadir28.jpg -> ./Muktadir/Muktadir104.jpg\n",
      "Renamed: ./Muktadir/Muktadir16.jpg -> ./Muktadir/Muktadir105.jpg\n",
      "Renamed: ./Muktadir/Muktadir129.jpg -> ./Muktadir/Muktadir106.jpg\n",
      "Renamed: ./Muktadir/Muktadir115.jpg -> ./Muktadir/Muktadir107.jpg\n",
      "Renamed: ./Muktadir/Muktadir114.jpg -> ./Muktadir/Muktadir108.jpg\n",
      "Renamed: ./Muktadir/Muktadir128.jpg -> ./Muktadir/Muktadir109.jpg\n",
      "Renamed: ./Muktadir/Muktadir17.jpg -> ./Muktadir/Muktadir110.jpg\n",
      "Renamed: ./Muktadir/Muktadir13.jpg -> ./Muktadir/Muktadir111.jpg\n",
      "Renamed: ./Muktadir/Muktadir138.jpg -> ./Muktadir/Muktadir112.jpg\n",
      "Renamed: ./Muktadir/Muktadir139.jpg -> ./Muktadir/Muktadir113.jpg\n",
      "Renamed: ./Muktadir/Muktadir12.jpg -> ./Muktadir/Muktadir114.jpg\n",
      "Renamed: ./Muktadir/Muktadir10.jpg -> ./Muktadir/Muktadir115.jpg\n",
      "Renamed: ./Muktadir/Muktadir38.jpg -> ./Muktadir/Muktadir116.jpg\n",
      "Renamed: ./Muktadir/Muktadir39.jpg -> ./Muktadir/Muktadir117.jpg\n",
      "Renamed: ./Muktadir/Muktadir11.jpg -> ./Muktadir/Muktadir118.jpg\n"
     ]
    }
   ],
   "source": [
    "def rename_images_in_directory(directory, prefix=\"image\"):\n",
    "    \"\"\"Rename all images in a directory to a sequential format.\"\"\"\n",
    "    valid_extensions = (\".jpg\", \".jpeg\", \".png\")  # Allowed file extensions\n",
    "    try:\n",
    "        files = [f for f in os.listdir(directory) if f.lower().endswith(valid_extensions)]\n",
    "        for i, filename in enumerate(files, start=1):\n",
    "            old_path = os.path.join(directory, filename)\n",
    "            new_filename = f\"{prefix}{i}{os.path.splitext(filename)[1]}\"  # Use same extension\n",
    "            new_path = os.path.join(directory, new_filename)\n",
    "            os.rename(old_path, new_path)\n",
    "            print(f\"Renamed: {old_path} -> {new_path}\")\n",
    "    except Exception as e:\n",
    "        print(f\"Error renaming files in {directory}: {e}\")\n",
    "\n",
    "# Rename images in both directories\n",
    "rename_images_in_directory(person1_path, prefix=\"Rahat\")\n",
    "rename_images_in_directory(person2_path, prefix=\"Muktadir\")\n"
   ]
  },
  {
   "cell_type": "code",
   "execution_count": 20,
   "id": "6193994c-7db6-4e81-bb6b-89a2051cd25b",
   "metadata": {},
   "outputs": [
    {
     "name": "stdout",
     "output_type": "stream",
     "text": [
      "Found existing installation: opencv-contrib-python 4.10.0.84\n",
      "Uninstalling opencv-contrib-python-4.10.0.84:\n",
      "  Successfully uninstalled opencv-contrib-python-4.10.0.84\n"
     ]
    }
   ],
   "source": [
    "!pip uninstall -y opencv-contrib-python"
   ]
  },
  {
   "cell_type": "code",
   "execution_count": 5,
   "id": "8bcc76a9-c503-4783-b943-7fdf924f7801",
   "metadata": {},
   "outputs": [
    {
     "name": "stdout",
     "output_type": "stream",
     "text": [
      "Press 'q' to exit.\n"
     ]
    },
    {
     "name": "stderr",
     "output_type": "stream",
     "text": [
      "2024-11-28 10:24:57.236 python3.12[56579:1821088] +[IMKClient subclass]: chose IMKClient_Legacy\n",
      "2024-11-28 10:24:57.236 python3.12[56579:1821088] +[IMKInputSession subclass]: chose IMKInputSession_Legacy\n"
     ]
    },
    {
     "ename": "KeyboardInterrupt",
     "evalue": "",
     "output_type": "error",
     "traceback": [
      "\u001b[0;31m---------------------------------------------------------------------------\u001b[0m",
      "\u001b[0;31mKeyboardInterrupt\u001b[0m                         Traceback (most recent call last)",
      "Cell \u001b[0;32mIn[5], line 34\u001b[0m\n\u001b[1;32m     31\u001b[0m gray \u001b[38;5;241m=\u001b[39m cv2\u001b[38;5;241m.\u001b[39mcvtColor(frame, cv2\u001b[38;5;241m.\u001b[39mCOLOR_BGR2GRAY)\n\u001b[1;32m     33\u001b[0m \u001b[38;5;66;03m# Detect faces in the grayscale image\u001b[39;00m\n\u001b[0;32m---> 34\u001b[0m faces \u001b[38;5;241m=\u001b[39m \u001b[43mface_cascade\u001b[49m\u001b[38;5;241;43m.\u001b[39;49m\u001b[43mdetectMultiScale\u001b[49m\u001b[43m(\u001b[49m\u001b[43mgray\u001b[49m\u001b[43m,\u001b[49m\u001b[43m \u001b[49m\u001b[43mscaleFactor\u001b[49m\u001b[38;5;241;43m=\u001b[39;49m\u001b[38;5;241;43m1.1\u001b[39;49m\u001b[43m,\u001b[49m\u001b[43m \u001b[49m\u001b[43mminNeighbors\u001b[49m\u001b[38;5;241;43m=\u001b[39;49m\u001b[38;5;241;43m5\u001b[39;49m\u001b[43m,\u001b[49m\u001b[43m \u001b[49m\u001b[43mminSize\u001b[49m\u001b[38;5;241;43m=\u001b[39;49m\u001b[43m(\u001b[49m\u001b[38;5;241;43m30\u001b[39;49m\u001b[43m,\u001b[49m\u001b[43m \u001b[49m\u001b[38;5;241;43m30\u001b[39;49m\u001b[43m)\u001b[49m\u001b[43m)\u001b[49m\n\u001b[1;32m     36\u001b[0m \u001b[38;5;66;03m# Loop over the detected faces\u001b[39;00m\n\u001b[1;32m     37\u001b[0m \u001b[38;5;28;01mfor\u001b[39;00m (x, y, w, h) \u001b[38;5;129;01min\u001b[39;00m faces:\n\u001b[1;32m     38\u001b[0m     \u001b[38;5;66;03m# Draw rectangle around face\u001b[39;00m\n",
      "\u001b[0;31mKeyboardInterrupt\u001b[0m: "
     ]
    }
   ],
   "source": [
    "import os\n",
    "import face_recognition\n",
    "import numpy as np\n",
    "import pickle\n",
    "\n",
    "# Paths to datasets\n",
    "base_path = \"./\"  # Current directory\n",
    "person1_path = os.path.join(base_path, \"Rahat\")\n",
    "person2_path = os.path.join(base_path, \"Muktadir\")\n",
    "\n",
    "# Variables\n",
    "label_dict = {0: \"Rahat\", 1: \"Muktadir\"}  # Map labels to names\n",
    "valid_extensions = (\".jpg\", \".jpeg\", \".png\")  # Valid file extensions\n",
    "\n",
    "# Initialize lists to store the encodings and labels\n",
    "encodings_list = []\n",
    "labels_list = []\n",
    "\n",
    "# Loop through the dataset directory and process each image\n",
    "for person_label, person_name in label_dict.items():\n",
    "    person_path = os.path.join(base_path, person_name)\n",
    "    \n",
    "    if os.path.isdir(person_path):\n",
    "        for image_name in os.listdir(person_path):\n",
    "            # Check if the file extension is valid\n",
    "            if image_name.endswith(valid_extensions):\n",
    "                image_path = os.path.join(person_path, image_name)\n",
    "                \n",
    "                # Load the image using face_recognition\n",
    "                image = face_recognition.load_image_file(image_path)\n",
    "                \n",
    "                # Find face locations and encodings\n",
    "                face_locations = face_recognition.face_locations(image)\n",
    "                face_encodings = face_recognition.face_encodings(image, face_locations)\n",
    "                \n",
    "                # Append the encodings and label (person label) to the lists\n",
    "                if face_encodings:\n",
    "                    for encoding in face_encodings:\n",
    "                        encodings_list.append(encoding)\n",
    "                        labels_list.append(person_label)\n",
    "                else:\n",
    "                    print(f\"No faces found in {image_name}\")\n",
    "                    \n",
    "        print(f\"Processed images from {person_name}\")\n",
    "\n",
    "# Convert labels list to numpy array\n",
    "labels_list = np.array(labels_list)\n",
    "\n",
    "# Save the encodings and labels to a file (pickle format)\n",
    "with open('trained_face_model.pkl', 'wb') as f:\n",
    "    pickle.dump({\n",
    "        'encodings': encodings_list,\n",
    "        'labels': labels_list,\n",
    "        'label_dict': label_dict\n",
    "    }, f)\n",
    "\n",
    "print(\"Training complete and model saved.\")\n"
   ]
  },
  {
   "cell_type": "code",
   "execution_count": null,
   "id": "9494c75f-e8a3-440c-ba1a-61c5ee7e4d34",
   "metadata": {},
   "outputs": [],
   "source": []
  }
 ],
 "metadata": {
  "kernelspec": {
   "display_name": "Python 3 (ipykernel)",
   "language": "python",
   "name": "python3"
  },
  "language_info": {
   "codemirror_mode": {
    "name": "ipython",
    "version": 3
   },
   "file_extension": ".py",
   "mimetype": "text/x-python",
   "name": "python",
   "nbconvert_exporter": "python",
   "pygments_lexer": "ipython3",
   "version": "3.12.7"
  }
 },
 "nbformat": 4,
 "nbformat_minor": 5
}
