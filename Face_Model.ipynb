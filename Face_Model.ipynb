{
 "cells": [
  {
   "cell_type": "code",
   "execution_count": 1,
   "id": "020b1981-8c3f-442f-9e3f-6f5bf93fa80a",
   "metadata": {},
   "outputs": [
    {
     "name": "stdout",
     "output_type": "stream",
     "text": [
      "Press 'q' to exit.\n"
     ]
    },
    {
     "name": "stderr",
     "output_type": "stream",
     "text": [
      "2024-11-28 10:31:15.335 python3.12[57210:1840029] +[IMKClient subclass]: chose IMKClient_Legacy\n",
      "2024-11-28 10:31:15.335 python3.12[57210:1840029] +[IMKInputSession subclass]: chose IMKInputSession_Legacy\n"
     ]
    },
    {
     "ename": "KeyboardInterrupt",
     "evalue": "",
     "output_type": "error",
     "traceback": [
      "\u001b[0;31m---------------------------------------------------------------------------\u001b[0m",
      "\u001b[0;31mKeyboardInterrupt\u001b[0m                         Traceback (most recent call last)",
      "Cell \u001b[0;32mIn[1], line 25\u001b[0m\n\u001b[1;32m     23\u001b[0m \u001b[38;5;28mprint\u001b[39m(\u001b[38;5;124m\"\u001b[39m\u001b[38;5;124mPress \u001b[39m\u001b[38;5;124m'\u001b[39m\u001b[38;5;124mq\u001b[39m\u001b[38;5;124m'\u001b[39m\u001b[38;5;124m to exit.\u001b[39m\u001b[38;5;124m\"\u001b[39m)\n\u001b[1;32m     24\u001b[0m \u001b[38;5;28;01mwhile\u001b[39;00m \u001b[38;5;28;01mTrue\u001b[39;00m:\n\u001b[0;32m---> 25\u001b[0m     ret, frame \u001b[38;5;241m=\u001b[39m \u001b[43mcap\u001b[49m\u001b[38;5;241;43m.\u001b[39;49m\u001b[43mread\u001b[49m\u001b[43m(\u001b[49m\u001b[43m)\u001b[49m\n\u001b[1;32m     26\u001b[0m     \u001b[38;5;28;01mif\u001b[39;00m \u001b[38;5;129;01mnot\u001b[39;00m ret:\n\u001b[1;32m     27\u001b[0m         \u001b[38;5;28mprint\u001b[39m(\u001b[38;5;124m\"\u001b[39m\u001b[38;5;124mError: Failed to grab frame.\u001b[39m\u001b[38;5;124m\"\u001b[39m)\n",
      "\u001b[0;31mKeyboardInterrupt\u001b[0m: "
     ]
    }
   ],
   "source": [
    "import cv2\n",
    "import face_recognition\n",
    "import pickle\n",
    "import numpy as np\n",
    "\n",
    "# Load the saved face model\n",
    "with open('trained_face_model.pkl', 'rb') as model_file:\n",
    "    model_data = pickle.load(model_file)\n",
    "    encodings_list = model_data['encodings']\n",
    "    labels_list = model_data['labels']\n",
    "    label_dict = model_data['label_dict']\n",
    "\n",
    "# Initialize OpenCV's face detector (Haar Cascade)\n",
    "face_cascade = cv2.CascadeClassifier(cv2.data.haarcascades + 'haarcascade_frontalface_default.xml')\n",
    "\n",
    "# Initialize webcam\n",
    "cap = cv2.VideoCapture(0)  # Change to 1 if using an external camera\n",
    "\n",
    "if not cap.isOpened():\n",
    "    print(\"Error: Could not open webcam.\")\n",
    "    exit()\n",
    "\n",
    "print(\"Press 'q' to exit.\")\n",
    "while True:\n",
    "    ret, frame = cap.read()\n",
    "    if not ret:\n",
    "        print(\"Error: Failed to grab frame.\")\n",
    "        break\n",
    "\n",
    "    # Convert frame to grayscale for faster processing (Haar Cascade requires grayscale images)\n",
    "    gray = cv2.cvtColor(frame, cv2.COLOR_BGR2GRAY)\n",
    "\n",
    "    # Detect faces in the grayscale image\n",
    "    faces = face_cascade.detectMultiScale(gray, scaleFactor=1.1, minNeighbors=5, minSize=(30, 30))\n",
    "\n",
    "    # Loop over the detected faces\n",
    "    for (x, y, w, h) in faces:\n",
    "        # Draw rectangle around face\n",
    "        cv2.rectangle(frame, (x, y), (x + w, y + h), (0, 255, 0), 2)\n",
    "\n",
    "        # Extract the region of interest (face) from the frame\n",
    "        face_roi = frame[y:y + h, x:x + w]\n",
    "        \n",
    "        # Convert to RGB (face_recognition uses RGB, OpenCV uses BGR)\n",
    "        rgb_face = cv2.cvtColor(face_roi, cv2.COLOR_BGR2RGB)\n",
    "\n",
    "        # Find face encodings for the detected face\n",
    "        face_locations = [(0, w, h, 0)]  # Fake location as we already have the ROI\n",
    "        face_encodings = face_recognition.face_encodings(rgb_face, face_locations)\n",
    "\n",
    "        # Loop through all the faces found\n",
    "        for face_encoding in face_encodings:\n",
    "            # Compare the detected face encoding with saved encodings\n",
    "            matches = face_recognition.compare_faces(encodings_list, face_encoding)\n",
    "            name = \"Unknown\"\n",
    "            confidence = 0.0  # Default confidence\n",
    "\n",
    "            # If a match is found, get the name and calculate the confidence\n",
    "            if True in matches:\n",
    "                first_match_index = matches.index(True)\n",
    "                name = label_dict[labels_list[first_match_index]]\n",
    "\n",
    "                # Calculate the distance between the detected face and the stored face encoding\n",
    "                face_distances = face_recognition.face_distance([encodings_list[first_match_index]], face_encoding)\n",
    "                confidence = 1 - face_distances[0]  # Convert distance to confidence (higher is better)\n",
    "\n",
    "            # Show the name and confidence level on the frame\n",
    "            cv2.putText(frame, f\"{name} ({confidence*100:.2f}%)\", (x, y - 10),\n",
    "                        cv2.FONT_HERSHEY_SIMPLEX, 0.9, (0, 255, 0), 2)\n",
    "\n",
    "    # Display the video feed with face rectangles, names, and confidence\n",
    "    cv2.imshow(\"Real-time Face Recognition\", frame)\n",
    "\n",
    "    # Exit when 'q' is pressed\n",
    "    if cv2.waitKey(1) & 0xFF == ord('q'):\n",
    "        break\n",
    "\n",
    "# Release the webcam and close OpenCV window\n",
    "cap.release()\n",
    "cv2.destroyAllWindows()\n"
   ]
  },
  {
   "cell_type": "code",
   "execution_count": null,
   "id": "bd849a53-0c02-4e44-b3d4-75e2f8249a3a",
   "metadata": {},
   "outputs": [],
   "source": []
  },
  {
   "cell_type": "code",
   "execution_count": null,
   "id": "d1c1ea72-6c81-4691-a380-3d94155c4693",
   "metadata": {},
   "outputs": [],
   "source": []
  }
 ],
 "metadata": {
  "kernelspec": {
   "display_name": "Python 3 (ipykernel)",
   "language": "python",
   "name": "python3"
  },
  "language_info": {
   "codemirror_mode": {
    "name": "ipython",
    "version": 3
   },
   "file_extension": ".py",
   "mimetype": "text/x-python",
   "name": "python",
   "nbconvert_exporter": "python",
   "pygments_lexer": "ipython3",
   "version": "3.12.7"
  }
 },
 "nbformat": 4,
 "nbformat_minor": 5
}
